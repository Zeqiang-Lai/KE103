{
 "cells": [
  {
   "cell_type": "code",
   "execution_count": 1,
   "metadata": {},
   "outputs": [
    {
     "name": "stderr",
     "output_type": "stream",
     "text": [
      "/Users/zeqiang/Documents/MyCode/Knowledge-engineering/workspace/.env/lib/python3.6/site-packages/h5py/__init__.py:36: FutureWarning: Conversion of the second argument of issubdtype from `float` to `np.floating` is deprecated. In future, it will be treated as `np.float64 == np.dtype(float).type`.\n",
      "  from ._conv import register_converters as _register_converters\n",
      "Using TensorFlow backend.\n"
     ]
    },
    {
     "name": "stdout",
     "output_type": "stream",
     "text": [
      "Found 14986 sentence\n",
      "Found 10 unique tag\n",
      "Found 23626 unique word\n",
      "Found 2006 sentence\n",
      "Found 3683 sentence\n",
      "x_train: 14986 y_train: 14986\n",
      "x_valid: 2006 y_valid: 2006\n",
      "x_test: 3683 y_test: 3683\n",
      "Found 400000 word vectors.\n",
      "(23627, 50)\n",
      "Epoch 1/15\n",
      "469/469 [==============================] - 35s 74ms/step - loss: 0.4368\n",
      "Epoch 2/15\n",
      "469/469 [==============================] - 33s 71ms/step - loss: 0.1804\n",
      "Epoch 3/15\n",
      "469/469 [==============================] - 33s 70ms/step - loss: 0.0983\n",
      "Epoch 4/15\n",
      "469/469 [==============================] - 33s 71ms/step - loss: 0.0656\n",
      "Epoch 5/15\n",
      "469/469 [==============================] - 34s 73ms/step - loss: 0.0514\n",
      "Epoch 6/15\n",
      "469/469 [==============================] - 34s 72ms/step - loss: 0.0414\n",
      "Epoch 7/15\n",
      "469/469 [==============================] - 38s 81ms/step - loss: 0.0361\n",
      "Epoch 8/15\n",
      "469/469 [==============================] - 40s 85ms/step - loss: 0.0308\n",
      "Epoch 9/15\n",
      "469/469 [==============================] - 37s 80ms/step - loss: 0.0269\n",
      "Epoch 10/15\n",
      "469/469 [==============================] - 38s 81ms/step - loss: 0.0249\n",
      "Epoch 11/15\n",
      "469/469 [==============================] - 38s 80ms/step - loss: 0.0222\n",
      "Epoch 12/15\n",
      "469/469 [==============================] - 38s 81ms/step - loss: 0.0192\n",
      "Epoch 13/15\n",
      "469/469 [==============================] - 37s 78ms/step - loss: 0.0190\n",
      "Epoch 14/15\n",
      "469/469 [==============================] - 36s 77ms/step - loss: 0.0161\n",
      "Epoch 15/15\n",
      "469/469 [==============================] - 36s 76ms/step - loss: 0.0156\n"
     ]
    }
   ],
   "source": [
    "from keras import Input, Model\n",
    "from keras.layers import Dense, Dropout, Embedding, LSTM, Bidirectional, np\n",
    "from sklearn.preprocessing import MultiLabelBinarizer\n",
    "from seqeval.metrics import f1_score\n",
    "from sklearn.metrics import f1_score as sk_f1_score\n",
    "\n",
    "import utils\n",
    "from evaluation import F1_score_v1, F1_score_v2\n",
    "\n",
    "DATA_FLD = 'data'\n",
    "GLOVE_PATH = 'embedding/glove.6B.50d.txt'\n",
    "MODEL_PATH = 'model/NER_Dropout.h5'\n",
    "\n",
    "# Hyperparameters\n",
    "MAX_NUM_WORDS = 30000\n",
    "EMBEDDING_DIM = 50\n",
    "DROPOUT = 0.5\n",
    "WORD_LSTM_SIZE = 100\n",
    "FC_DIM = 100\n",
    "OPTIMIZER = 'adam'\n",
    "SHUFFLE = True\n",
    "BATCH_SIZE = 32\n",
    "EPOCHS = 15\n",
    "VERBOSE = True\n",
    "\n",
    "# Load data\n",
    "train, valid, test, dic = utils.load_data(DATA_FLD)\n",
    "x_train, y_train = train\n",
    "x_valid, y_valid = valid\n",
    "x_test, y_test = test\n",
    "word2idx, idx2word, label2idx, idx2label = dic\n",
    "\n",
    "MAX_LEN = max([len(x) for x in x_train])\n",
    "NUM_LABEL = len(label2idx)\n",
    "\n",
    "# Load embedding\n",
    "embeddings = utils.load_embedding_matrix(GLOVE_PATH, word2idx, EMBEDDING_DIM, MAX_NUM_WORDS)\n",
    "num_words = min(MAX_NUM_WORDS, len(word2idx) + 1)\n",
    "\n",
    "# Construct network\n",
    "word_ids = Input(batch_shape=(None, None), dtype='int32')\n",
    "lengths = Input(batch_shape=(None, None), dtype='int32')\n",
    "inputs = [word_ids, lengths]\n",
    "# inputs = [word_ids]\n",
    "\n",
    "embedding_layer = Embedding(input_dim=embeddings.shape[0],\n",
    "                            output_dim=embeddings.shape[1],\n",
    "                            mask_zero=True,\n",
    "                            weights=[embeddings])(word_ids)\n",
    "embedding_layer = Dropout(DROPOUT)(embedding_layer)\n",
    "z = Bidirectional(LSTM(units=WORD_LSTM_SIZE, return_sequences=True))(embedding_layer)\n",
    "z = Dropout(DROPOUT)(z)\n",
    "z = Dense(FC_DIM, activation='tanh')(z)\n",
    "z = Dense(FC_DIM, activation='tanh')(z)\n",
    "pred = Dense(NUM_LABEL, activation='softmax')(z)\n",
    "model = Model(inputs=inputs, outputs=pred)\n",
    "model.compile(loss='categorical_crossentropy', optimizer=OPTIMIZER)\n",
    "\n",
    "# Train\n",
    "train_steps, train_generator = utils.batch_iter(x_train, y_train,\n",
    "                                                NUM_LABEL,\n",
    "                                                BATCH_SIZE,\n",
    "                                                shuffle=SHUFFLE)\n",
    "model.fit_generator(generator=train_generator,\n",
    "                    steps_per_epoch=train_steps,\n",
    "                    epochs=EPOCHS,\n",
    "                    verbose=VERBOSE)\n",
    "model.save(MODEL_PATH)"
   ]
  },
  {
   "cell_type": "code",
   "execution_count": 2,
   "metadata": {},
   "outputs": [
    {
     "name": "stdout",
     "output_type": "stream",
     "text": [
      "Validation set\n",
      "F1(sk-learn): 0.915570871497234\n",
      "F1(Any Overlap OK): 0.8469377659048184\n",
      "F1(exact match): 0.7610190052567731\n"
     ]
    }
   ],
   "source": [
    "print('Validation set')\n",
    "# Score\n",
    "X_valid = utils.process_data_for_keras(NUM_LABEL, x_valid)\n",
    "length = np.array([len(sent) for sent in x_valid], dtype='int32')\n",
    "y_pred = model.predict(X_valid)\n",
    "y = np.argmax(y_pred, -1)\n",
    "y_pred = [iy[:l] for iy, l in zip(y, length)]\n",
    "\n",
    "true = MultiLabelBinarizer().fit_transform(y_valid)\n",
    "pred = MultiLabelBinarizer().fit_transform(y_pred)\n",
    "score = sk_f1_score(true, pred, average='micro')\n",
    "print('F1(sk-learn): {0}'.format(score))\n",
    "\n",
    "a = np.array(y_valid).flatten()\n",
    "b = np.array(y_pred).flatten()\n",
    "f1_v1 = F1_score_v1(a, b, label2idx, idx2label)\n",
    "print('F1(Any Overlap OK): {0}'.format(f1_v1))\n",
    "\n",
    "f1_v2 = F1_score_v2(y_valid, y_pred, label2idx, idx2label)\n",
    "print('F1(exact match): {0}'.format(f1_v2))"
   ]
  },
  {
   "cell_type": "code",
   "execution_count": 3,
   "metadata": {},
   "outputs": [
    {
     "name": "stdout",
     "output_type": "stream",
     "text": [
      "Test set\n",
      "F1(sk-learn): 0.8806486598151114\n",
      "F1(Any Overlap OK): 0.7913090450753256\n",
      "F1(exact match): 0.6794212981263341\n"
     ]
    }
   ],
   "source": [
    "print('Test set')\n",
    "# Score\n",
    "X_test = utils.process_data_for_keras(NUM_LABEL, x_test)\n",
    "length = np.array([len(sent) for sent in x_test], dtype='int32')\n",
    "y_pred = model.predict(X_test)\n",
    "y = np.argmax(y_pred, -1)\n",
    "y_pred = [iy[:l] for iy, l in zip(y, length)]\n",
    "\n",
    "true = MultiLabelBinarizer().fit_transform(y_test)\n",
    "pred = MultiLabelBinarizer().fit_transform(y_pred)\n",
    "score = sk_f1_score(true, pred, average='micro')\n",
    "print('F1(sk-learn): {0}'.format(score))\n",
    "\n",
    "a = np.array(y_test).flatten()\n",
    "b = np.array(y_pred).flatten()\n",
    "f1_v1 = F1_score_v1(a, b, label2idx, idx2label)\n",
    "print('F1(Any Overlap OK): {0}'.format(f1_v1))\n",
    "\n",
    "f1_v2 = F1_score_v2(y_test, y_pred, label2idx, idx2label)\n",
    "print('F1(exact match): {0}'.format(f1_v2))"
   ]
  },
  {
   "cell_type": "code",
   "execution_count": null,
   "metadata": {},
   "outputs": [],
   "source": []
  }
 ],
 "metadata": {
  "kernelspec": {
   "display_name": "Python 3",
   "language": "python",
   "name": "python3"
  },
  "language_info": {
   "codemirror_mode": {
    "name": "ipython",
    "version": 3
   },
   "file_extension": ".py",
   "mimetype": "text/x-python",
   "name": "python",
   "nbconvert_exporter": "python",
   "pygments_lexer": "ipython3",
   "version": "3.6.4"
  }
 },
 "nbformat": 4,
 "nbformat_minor": 1
}
